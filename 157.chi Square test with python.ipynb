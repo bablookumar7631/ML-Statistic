{
 "cells": [
  {
   "cell_type": "markdown",
   "id": "e7f3802c-5ef0-4879-971f-596cd977494d",
   "metadata": {},
   "source": [
    "Chi Square Test With Python"
   ]
  },
  {
   "cell_type": "code",
   "execution_count": 7,
   "id": "6cbc5830-5a49-4573-9c7a-ae29e60060c6",
   "metadata": {},
   "outputs": [],
   "source": [
    "import scipy.stats as stat\n",
    "import numpy as np"
   ]
  },
  {
   "cell_type": "code",
   "execution_count": 8,
   "id": "8b68c412-5a9d-4351-bacf-387354b50e11",
   "metadata": {},
   "outputs": [],
   "source": [
    "# No. of hours student study in a weekly basis daily\n",
    "# monday, tuesday, wednesday, thursday, friday, saturday, sunday\n",
    "expected_data = [8,6,7,9,6,9,7]\n",
    "observed_data = [7,8,6,9,9,6,7]"
   ]
  },
  {
   "cell_type": "code",
   "execution_count": 9,
   "id": "f07784a9-dd2f-4ea6-8594-4b27a4a85633",
   "metadata": {},
   "outputs": [
    {
     "data": {
      "text/plain": [
       "(52, 52)"
      ]
     },
     "execution_count": 9,
     "metadata": {},
     "output_type": "execute_result"
    }
   ],
   "source": [
    "sum(expected_data),sum(observed_data)"
   ]
  },
  {
   "cell_type": "code",
   "execution_count": 10,
   "id": "1aa2781b-dd96-49fe-b9ad-f55210695bf8",
   "metadata": {},
   "outputs": [],
   "source": [
    "# chi-square Goodness of Fit Test\n",
    "chisquare_test_statistic, p_value = stat.chisquare(observed_data, expected_data)"
   ]
  },
  {
   "cell_type": "code",
   "execution_count": 11,
   "id": "7a6bbe85-cf20-4c6f-be6e-009e02510c41",
   "metadata": {},
   "outputs": [
    {
     "data": {
      "text/plain": [
       "(3.4345238095238093, 0.7526596580922865)"
      ]
     },
     "execution_count": 11,
     "metadata": {},
     "output_type": "execute_result"
    }
   ],
   "source": [
    "chisquare_test_statistic, p_value"
   ]
  },
  {
   "cell_type": "code",
   "execution_count": 12,
   "id": "0cc24acc-fe8c-48ef-9b6a-e86bb16cbf41",
   "metadata": {},
   "outputs": [
    {
     "name": "stdout",
     "output_type": "stream",
     "text": [
      "6\n"
     ]
    }
   ],
   "source": [
    "# find the critical value\n",
    "significane_value = 0.05\n",
    "dof = len(expected_data)-1\n",
    "print(dof)\n",
    "critical_value = stat.chi2.pdf(1-significane_value,dof)"
   ]
  },
  {
   "cell_type": "code",
   "execution_count": 13,
   "id": "54d8ed12-6c48-4193-8acc-fee7b5fa692c",
   "metadata": {},
   "outputs": [
    {
     "data": {
      "text/plain": [
       "0.035078203966230036"
      ]
     },
     "execution_count": 13,
     "metadata": {},
     "output_type": "execute_result"
    }
   ],
   "source": [
    "critical_value"
   ]
  },
  {
   "cell_type": "code",
   "execution_count": 14,
   "id": "44159d90-b8f0-4bae-9d71-195704de31b8",
   "metadata": {},
   "outputs": [
    {
     "name": "stdout",
     "output_type": "stream",
     "text": [
      "Reject the null hypothesis\n"
     ]
    }
   ],
   "source": [
    "if chisquare_test_statistic > critical_value:\n",
    "    print(\"Reject the null hypothesis\")\n",
    "else:\n",
    "    print(\"Accept the null hypothesis\")"
   ]
  },
  {
   "cell_type": "code",
   "execution_count": null,
   "id": "90f8be6a-197d-477c-a130-e895cb127b26",
   "metadata": {},
   "outputs": [],
   "source": []
  }
 ],
 "metadata": {
  "kernelspec": {
   "display_name": "Python 3 (ipykernel)",
   "language": "python",
   "name": "python3"
  },
  "language_info": {
   "codemirror_mode": {
    "name": "ipython",
    "version": 3
   },
   "file_extension": ".py",
   "mimetype": "text/x-python",
   "name": "python",
   "nbconvert_exporter": "python",
   "pygments_lexer": "ipython3",
   "version": "3.10.8"
  }
 },
 "nbformat": 4,
 "nbformat_minor": 5
}
