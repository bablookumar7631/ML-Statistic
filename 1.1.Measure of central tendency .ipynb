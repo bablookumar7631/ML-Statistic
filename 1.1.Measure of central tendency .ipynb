{
 "cells": [
  {
   "cell_type": "markdown",
   "id": "bddf2997-c490-4e10-852d-76bf71ab5565",
   "metadata": {},
   "source": [
    "## Measure of central Tendency"
   ]
  },
  {
   "cell_type": "code",
   "execution_count": 2,
   "id": "fa59fc35-9df4-41f7-bbb4-9ddd554abb43",
   "metadata": {},
   "outputs": [],
   "source": [
    "# Mean(Average)\n",
    "age = [12,21,23,45,65,43,56,45,32,67,54,34]"
   ]
  },
  {
   "cell_type": "code",
   "execution_count": 3,
   "id": "0c8ee454-2cc9-4736-9acc-32bbcffc453d",
   "metadata": {},
   "outputs": [
    {
     "data": {
      "text/plain": [
       "41.416666666666664"
      ]
     },
     "execution_count": 3,
     "metadata": {},
     "output_type": "execute_result"
    }
   ],
   "source": [
    "import numpy as np\n",
    "np.mean(age)"
   ]
  },
  {
   "cell_type": "code",
   "execution_count": 7,
   "id": "399d4e0c-0f3c-47c4-9e3f-89a7c6dda162",
   "metadata": {},
   "outputs": [],
   "source": [
    "weights = [54,45,34,54,34,67,54,56,75]"
   ]
  },
  {
   "cell_type": "code",
   "execution_count": 8,
   "id": "318f6904-febd-4089-b97e-9df30b112e0a",
   "metadata": {},
   "outputs": [
    {
     "data": {
      "text/plain": [
       "52.55555555555556"
      ]
     },
     "execution_count": 8,
     "metadata": {},
     "output_type": "execute_result"
    }
   ],
   "source": [
    "np.mean(weights)"
   ]
  },
  {
   "cell_type": "code",
   "execution_count": 9,
   "id": "d3d68582-18b1-4c44-990a-c7c58c95c0c2",
   "metadata": {},
   "outputs": [],
   "source": [
    "import seaborn as sns\n",
    "df = sns.load_dataset('tips')"
   ]
  },
  {
   "cell_type": "code",
   "execution_count": 10,
   "id": "961f2b31-4996-4302-8ac3-624efd4fb5f9",
   "metadata": {},
   "outputs": [
    {
     "data": {
      "text/html": [
       "<div>\n",
       "<style scoped>\n",
       "    .dataframe tbody tr th:only-of-type {\n",
       "        vertical-align: middle;\n",
       "    }\n",
       "\n",
       "    .dataframe tbody tr th {\n",
       "        vertical-align: top;\n",
       "    }\n",
       "\n",
       "    .dataframe thead th {\n",
       "        text-align: right;\n",
       "    }\n",
       "</style>\n",
       "<table border=\"1\" class=\"dataframe\">\n",
       "  <thead>\n",
       "    <tr style=\"text-align: right;\">\n",
       "      <th></th>\n",
       "      <th>total_bill</th>\n",
       "      <th>tip</th>\n",
       "      <th>sex</th>\n",
       "      <th>smoker</th>\n",
       "      <th>day</th>\n",
       "      <th>time</th>\n",
       "      <th>size</th>\n",
       "    </tr>\n",
       "  </thead>\n",
       "  <tbody>\n",
       "    <tr>\n",
       "      <th>0</th>\n",
       "      <td>16.99</td>\n",
       "      <td>1.01</td>\n",
       "      <td>Female</td>\n",
       "      <td>No</td>\n",
       "      <td>Sun</td>\n",
       "      <td>Dinner</td>\n",
       "      <td>2</td>\n",
       "    </tr>\n",
       "    <tr>\n",
       "      <th>1</th>\n",
       "      <td>10.34</td>\n",
       "      <td>1.66</td>\n",
       "      <td>Male</td>\n",
       "      <td>No</td>\n",
       "      <td>Sun</td>\n",
       "      <td>Dinner</td>\n",
       "      <td>3</td>\n",
       "    </tr>\n",
       "    <tr>\n",
       "      <th>2</th>\n",
       "      <td>21.01</td>\n",
       "      <td>3.50</td>\n",
       "      <td>Male</td>\n",
       "      <td>No</td>\n",
       "      <td>Sun</td>\n",
       "      <td>Dinner</td>\n",
       "      <td>3</td>\n",
       "    </tr>\n",
       "    <tr>\n",
       "      <th>3</th>\n",
       "      <td>23.68</td>\n",
       "      <td>3.31</td>\n",
       "      <td>Male</td>\n",
       "      <td>No</td>\n",
       "      <td>Sun</td>\n",
       "      <td>Dinner</td>\n",
       "      <td>2</td>\n",
       "    </tr>\n",
       "    <tr>\n",
       "      <th>4</th>\n",
       "      <td>24.59</td>\n",
       "      <td>3.61</td>\n",
       "      <td>Female</td>\n",
       "      <td>No</td>\n",
       "      <td>Sun</td>\n",
       "      <td>Dinner</td>\n",
       "      <td>4</td>\n",
       "    </tr>\n",
       "  </tbody>\n",
       "</table>\n",
       "</div>"
      ],
      "text/plain": [
       "   total_bill   tip     sex smoker  day    time  size\n",
       "0       16.99  1.01  Female     No  Sun  Dinner     2\n",
       "1       10.34  1.66    Male     No  Sun  Dinner     3\n",
       "2       21.01  3.50    Male     No  Sun  Dinner     3\n",
       "3       23.68  3.31    Male     No  Sun  Dinner     2\n",
       "4       24.59  3.61  Female     No  Sun  Dinner     4"
      ]
     },
     "execution_count": 10,
     "metadata": {},
     "output_type": "execute_result"
    }
   ],
   "source": [
    "df.head()"
   ]
  },
  {
   "cell_type": "code",
   "execution_count": 11,
   "id": "874c87cd-1478-40cb-b862-a7f629c25c48",
   "metadata": {},
   "outputs": [
    {
     "data": {
      "text/plain": [
       "19.78594262295082"
      ]
     },
     "execution_count": 11,
     "metadata": {},
     "output_type": "execute_result"
    }
   ],
   "source": [
    "np.mean(df['total_bill'])"
   ]
  },
  {
   "cell_type": "code",
   "execution_count": 12,
   "id": "ee4dd6e5-aea2-4ac1-8d0b-ab3ac24a370d",
   "metadata": {},
   "outputs": [
    {
     "data": {
      "text/plain": [
       "44.0"
      ]
     },
     "execution_count": 12,
     "metadata": {},
     "output_type": "execute_result"
    }
   ],
   "source": [
    "# Median\n",
    "np.median(age)"
   ]
  },
  {
   "cell_type": "code",
   "execution_count": 14,
   "id": "8d7c29f5-497d-4786-8e85-31d5bf9e9668",
   "metadata": {},
   "outputs": [],
   "source": [
    "age = [12,21,23,45,65,43,56,45,32,67,54,34,200]"
   ]
  },
  {
   "cell_type": "code",
   "execution_count": 15,
   "id": "b99401db-a883-4f41-897f-d662351f3fe1",
   "metadata": {},
   "outputs": [
    {
     "data": {
      "text/plain": [
       "53.61538461538461"
      ]
     },
     "execution_count": 15,
     "metadata": {},
     "output_type": "execute_result"
    }
   ],
   "source": [
    "np.mean(age)"
   ]
  },
  {
   "cell_type": "code",
   "execution_count": 16,
   "id": "2f94f382-cfe7-4801-86ae-d36f7c6d6bcb",
   "metadata": {},
   "outputs": [
    {
     "data": {
      "text/plain": [
       "45.0"
      ]
     },
     "execution_count": 16,
     "metadata": {},
     "output_type": "execute_result"
    }
   ],
   "source": [
    "np.median(age)"
   ]
  },
  {
   "cell_type": "code",
   "execution_count": 17,
   "id": "19be1ac2-5665-473f-b3cf-3200deb2a1d3",
   "metadata": {},
   "outputs": [],
   "source": [
    "# Mode"
   ]
  },
  {
   "cell_type": "code",
   "execution_count": 18,
   "id": "cc1fd3de-f39f-4efc-b242-527f6f620544",
   "metadata": {},
   "outputs": [],
   "source": [
    "from scipy import stats"
   ]
  },
  {
   "cell_type": "code",
   "execution_count": 19,
   "id": "7974444c-1744-4d2e-9109-54834c40f5b7",
   "metadata": {},
   "outputs": [
    {
     "name": "stderr",
     "output_type": "stream",
     "text": [
      "/tmp/ipykernel_132/2474845003.py:1: FutureWarning: Unlike other reduction functions (e.g. `skew`, `kurtosis`), the default behavior of `mode` typically preserves the axis it acts along. In SciPy 1.11.0, this behavior will change: the default value of `keepdims` will become False, the `axis` over which the statistic is taken will be eliminated, and the value None will no longer be accepted. Set `keepdims` to True or False to avoid this warning.\n",
      "  stats.mode(age)\n"
     ]
    },
    {
     "data": {
      "text/plain": [
       "ModeResult(mode=array([45]), count=array([2]))"
      ]
     },
     "execution_count": 19,
     "metadata": {},
     "output_type": "execute_result"
    }
   ],
   "source": [
    "stats.mode(age)"
   ]
  },
  {
   "cell_type": "code",
   "execution_count": 20,
   "id": "964c13cc-19d5-4686-9403-f5de0a5dab92",
   "metadata": {},
   "outputs": [
    {
     "data": {
      "text/plain": [
       "17.795"
      ]
     },
     "execution_count": 20,
     "metadata": {},
     "output_type": "execute_result"
    }
   ],
   "source": [
    "np.median(df['total_bill'])"
   ]
  },
  {
   "cell_type": "code",
   "execution_count": null,
   "id": "e86ad2a0-6bcc-4e27-a263-603552fb8d8e",
   "metadata": {},
   "outputs": [],
   "source": []
  }
 ],
 "metadata": {
  "kernelspec": {
   "display_name": "Python 3 (ipykernel)",
   "language": "python",
   "name": "python3"
  },
  "language_info": {
   "codemirror_mode": {
    "name": "ipython",
    "version": 3
   },
   "file_extension": ".py",
   "mimetype": "text/x-python",
   "name": "python",
   "nbconvert_exporter": "python",
   "pygments_lexer": "ipython3",
   "version": "3.10.8"
  }
 },
 "nbformat": 4,
 "nbformat_minor": 5
}
