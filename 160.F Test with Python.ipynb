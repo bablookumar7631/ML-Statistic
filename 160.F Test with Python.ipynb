{
 "cells": [
  {
   "cell_type": "markdown",
   "id": "58610e22-9bc5-4225-939b-440e77abcf24",
   "metadata": {},
   "source": [
    "F test with Python"
   ]
  },
  {
   "cell_type": "code",
   "execution_count": 1,
   "id": "60b54d9a-bfe2-4286-b85a-49b897e747cf",
   "metadata": {},
   "outputs": [],
   "source": [
    "# Evidence to say that two population variance are not equal.\n",
    "# both the perfomance are different \n",
    "worker1 = [18,19,22,25,27,28,41,45,51,55]\n",
    "worker2 = [14,15,15,17,18,22,25,25,27,34]"
   ]
  },
  {
   "cell_type": "code",
   "execution_count": 2,
   "id": "a78c59ce-6111-4c3f-aba8-0fe32b95c795",
   "metadata": {},
   "outputs": [],
   "source": [
    "# calculation F test\n",
    "import numpy as np\n",
    "f_test = np.var(worker1)/np.var(worker2)"
   ]
  },
  {
   "cell_type": "code",
   "execution_count": 3,
   "id": "1ff17872-e366-4c0d-9d3c-6356161ab522",
   "metadata": {},
   "outputs": [
    {
     "data": {
      "text/plain": [
       "4.387122002085506"
      ]
     },
     "execution_count": 3,
     "metadata": {},
     "output_type": "execute_result"
    }
   ],
   "source": [
    "f_test"
   ]
  },
  {
   "cell_type": "code",
   "execution_count": 7,
   "id": "ecac72b4-291c-4831-8bfd-7992bf685d3e",
   "metadata": {},
   "outputs": [],
   "source": [
    "# Degree of freedom\n",
    "df1 = len(worker1)-1\n",
    "df2 = len(worker2)-2\n",
    "signifance_value = 0.05"
   ]
  },
  {
   "cell_type": "code",
   "execution_count": 8,
   "id": "3dcf2e97-33dd-414f-9d48-ce270842fafc",
   "metadata": {},
   "outputs": [],
   "source": [
    "import scipy.stats as stat"
   ]
  },
  {
   "cell_type": "code",
   "execution_count": 13,
   "id": "0c0b1c9f-3376-4f52-8bc1-f1d784521e0f",
   "metadata": {},
   "outputs": [],
   "source": [
    "critical_value = stat.f.ppf(q=1-signifance_value, dfn=df1, dfd=df2)"
   ]
  },
  {
   "cell_type": "code",
   "execution_count": 14,
   "id": "80a3aa2b-4775-441b-b9d8-ff7d762b1064",
   "metadata": {},
   "outputs": [
    {
     "data": {
      "text/plain": [
       "3.3881302347397266"
      ]
     },
     "execution_count": 14,
     "metadata": {},
     "output_type": "execute_result"
    }
   ],
   "source": [
    "critical_value"
   ]
  },
  {
   "cell_type": "code",
   "execution_count": 16,
   "id": "626a7e50-ff6e-46f0-a90b-8eff38cf9da6",
   "metadata": {},
   "outputs": [
    {
     "name": "stdout",
     "output_type": "stream",
     "text": [
      "Reject the null hypothesis\n"
     ]
    }
   ],
   "source": [
    "if f_test > critical_value:\n",
    "    print(\"Reject the null hypothesis\")\n",
    "else:\n",
    "    print(\"We fail to Reject the null hypothesis\")"
   ]
  },
  {
   "cell_type": "code",
   "execution_count": null,
   "id": "a674f030-0c20-4da7-bdf8-86edf8f1c638",
   "metadata": {},
   "outputs": [],
   "source": []
  }
 ],
 "metadata": {
  "kernelspec": {
   "display_name": "Python 3 (ipykernel)",
   "language": "python",
   "name": "python3"
  },
  "language_info": {
   "codemirror_mode": {
    "name": "ipython",
    "version": 3
   },
   "file_extension": ".py",
   "mimetype": "text/x-python",
   "name": "python",
   "nbconvert_exporter": "python",
   "pygments_lexer": "ipython3",
   "version": "3.10.8"
  }
 },
 "nbformat": 4,
 "nbformat_minor": 5
}
